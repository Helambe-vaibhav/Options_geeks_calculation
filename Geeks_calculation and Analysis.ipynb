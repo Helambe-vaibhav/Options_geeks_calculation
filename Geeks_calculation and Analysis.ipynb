{
 "cells": [
  {
   "cell_type": "code",
   "execution_count": 1,
   "metadata": {
    "collapsed": true,
    "ExecuteTime": {
     "end_time": "2023-08-20T09:01:55.669911200Z",
     "start_time": "2023-08-20T09:01:53.917659600Z"
    }
   },
   "outputs": [
    {
     "name": "stdout",
     "output_type": "stream",
     "text": [
      "Implied Volatility (Call Option): 0.12634299211688232\n",
      "Implied Volatility (Put Option): 0.1478316327980606\n",
      "Call Option Price with Implied Volatility: 43.70001270982175\n",
      "Put Option Price with Implied Volatility: 70.50000455478585\n",
      "Option Greeks (Call Option): (0.447, 0.00302, 4.09, -25.86, 0.241)\n",
      "Option Greeks (Put Option): (-0.545, 0.00259, 4.1, -30.33, -0.297)\n"
     ]
    }
   ],
   "source": [
    "import numpy as np\n",
    "from scipy.stats import norm\n",
    "\n",
    "# Function to calculate call option price using the Black-Scholes formula\n",
    "def call_price(s, k, t, r, sigma):\n",
    "    # Calculate d1 and d2\n",
    "    d1 = (np.log(s/k) + (r + sigma**2/2)*t)/(sigma*np.sqrt(t))\n",
    "    d2 = d1 - sigma*np.sqrt(t)\n",
    "    # Calculate call option price\n",
    "    return s*norm.cdf(d1) - k*np.exp(-r*t)*norm.cdf(d2)\n",
    "\n",
    "# Function to calculate put option price using the Black-Scholes formula\n",
    "def put_price(s, k, t, r, sigma):\n",
    "    # Calculate d1 and d2\n",
    "    d1 = (np.log(s/k) + (r + sigma**2/2)*t)/(sigma*np.sqrt(t))\n",
    "    d2 = d1 - sigma*np.sqrt(t)\n",
    "    # Calculate put option price\n",
    "    return k*np.exp(-r*t)*norm.cdf(-d2) - s*norm.cdf(-d1)\n",
    "\n",
    "# Function to calculate implied volatility using the Newton-Raphson method\n",
    "def calculate_IV(s, k, t, r, option_type, market_price):\n",
    "    sigma = 0.5\n",
    "    for i in range(100):\n",
    "        if option_type == 'CE':\n",
    "            price = call_price(s, k, t, r, sigma)\n",
    "        else:\n",
    "            price = put_price(s, k, t, r, sigma)\n",
    "        vega = s*norm.pdf((np.log(s/k) + (r + sigma**2/2)*t)/(sigma*np.sqrt(t)))*np.sqrt(t)\n",
    "        if abs(price - market_price) < 0.05:\n",
    "            break\n",
    "        if vega == 0:\n",
    "            vega = 0.0001\n",
    "        sigma = sigma - (price - market_price)/vega\n",
    "    return sigma\n",
    "\n",
    "# Function to calculate option Greeks (Delta, Gamma, Vega, Theta, Rho)\n",
    "def option_greeks(s, k, t, r, sigma, option_type):\n",
    "    d1 = (np.log(s/k) + (r + sigma**2/2)*t)/(sigma*np.sqrt(t))\n",
    "    d2 = d1 - sigma*np.sqrt(t)\n",
    "\n",
    "    if option_type == 'CE':\n",
    "        delta = norm.cdf(d1)\n",
    "        gamma = norm.pdf(d1)/(s*sigma*np.sqrt(t))\n",
    "        vega = (s*norm.pdf(d1)*np.sqrt(t))/100\n",
    "        theta = -((s*norm.pdf(d1)*sigma)/(2*np.sqrt(t)))/365\n",
    "        rho = k*t*np.exp(-r*t)*norm.cdf(d2)/100\n",
    "    else:\n",
    "        delta = norm.cdf(d1) - 1\n",
    "        gamma = norm.pdf(d1)/(s*sigma*np.sqrt(t))\n",
    "        vega = (s*np.exp(-r*t)*norm.pdf(d1)*np.sqrt(t))/100\n",
    "        theta = -((s*norm.pdf(d1)*sigma)/(2*np.sqrt(t)))/365\n",
    "        rho = -k*t*np.exp(-r*t)*norm.cdf(-d2)/100\n",
    "\n",
    "    return round(delta, 3), round(gamma, 5), round(vega, 2), round(theta, 2), round(rho, 3)\n",
    "\n",
    "# Given parameters\n",
    "s = 19778.30\n",
    "k = 19800\n",
    "t = 1/365\n",
    "r = 6.835/100\n",
    "market_priceCE = 43.7\n",
    "market_pricePE = 70.5\n",
    "\n",
    "# Calculate implied volatility for call and put options\n",
    "sigmace = calculate_IV(s, k, t, r, 'CE', market_priceCE)\n",
    "sigmape = calculate_IV(s, k, t, r, 'PE', market_pricePE)\n",
    "\n",
    "# Print results\n",
    "print(\"Implied Volatility (Call Option):\", sigmace)\n",
    "print(\"Implied Volatility (Put Option):\", sigmape)\n",
    "print(\"Call Option Price with Implied Volatility:\", call_price(s, k, t, r, sigmace))\n",
    "print(\"Put Option Price with Implied Volatility:\", put_price(s, k, t, r, sigmape))\n",
    "print(\"Option Greeks (Call Option):\", option_greeks(s, k, t, r, sigmace, 'CE'))\n",
    "print(\"Option Greeks (Put Option):\", option_greeks(s, k, t, r, sigmape, 'PE'))"
   ]
  }
 ],
 "metadata": {
  "kernelspec": {
   "display_name": "Python 3",
   "language": "python",
   "name": "python3"
  },
  "language_info": {
   "codemirror_mode": {
    "name": "ipython",
    "version": 2
   },
   "file_extension": ".py",
   "mimetype": "text/x-python",
   "name": "python",
   "nbconvert_exporter": "python",
   "pygments_lexer": "ipython2",
   "version": "2.7.6"
  }
 },
 "nbformat": 4,
 "nbformat_minor": 0
}
